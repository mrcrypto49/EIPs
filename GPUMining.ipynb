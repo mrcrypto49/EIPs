{
  "nbformat": 4,
  "nbformat_minor": 0,
  "metadata": {
    "colab": {
      "name": "Cópia de GPUMining.ipynb",
      "provenance": [],
      "collapsed_sections": [],
      "include_colab_link": true
    },
    "kernelspec": {
      "name": "python3",
      "display_name": "Python 3"
    },
    "language_info": {
      "name": "python"
    },
    "accelerator": "GPU"
  },
  "cells": [
    {
      "cell_type": "markdown",
      "metadata": {
        "id": "view-in-github",
        "colab_type": "text"
      },
      "source": [
        "<a href=\"https://colab.research.google.com/github/mrcrypto49/EIPs/blob/master/GPUMining.ipynb\" target=\"_parent\"><img src=\"https://colab.research.google.com/assets/colab-badge.svg\" alt=\"Open In Colab\"/></a>"
      ]
    },
    {
      "cell_type": "markdown",
      "metadata": {
        "id": "wWhnI2bYadCZ"
      },
      "source": [
        "\n",
        "  \n",
        "![minu.png](data:image/png;base64,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)\n",
        "\n",
        "\n",
        "**INSCREVA-SE**\n",
        "\n",
        "&#x27A1;https://www.youtube.com/channel/UC4F6QutU6IuXJZD9R3gM7MA &#x1F468;&#x200D;&#x1F4BB;\n",
        "\n"
      ]
    },
    {
      "cell_type": "code",
      "metadata": {
        "id": "nQKb-r8jujm2"
      },
      "source": [
        ""
      ],
      "execution_count": null,
      "outputs": []
    },
    {
      "cell_type": "code",
      "metadata": {
        "id": "VC4D7vArdX5R",
        "cellView": "form",
        "colab": {
          "base_uri": "https://localhost:8080/"
        },
        "outputId": "ea8038a5-10ba-4226-90a4-d71d818f04f7"
      },
      "source": [
        "#@title **Google Colab GPU**\n",
        "#@markdown Execute para verificar a placa de vídeo!\n",
        "!setterm -foreground blue\n",
        "!nvidia-smi"
      ],
      "execution_count": null,
      "outputs": [
        {
          "output_type": "stream",
          "name": "stdout",
          "text": [
            "\u001b[34mSun Oct 10 02:05:29 2021       \n",
            "+-----------------------------------------------------------------------------+\n",
            "| NVIDIA-SMI 470.74       Driver Version: 460.32.03    CUDA Version: 11.2     |\n",
            "|-------------------------------+----------------------+----------------------+\n",
            "| GPU  Name        Persistence-M| Bus-Id        Disp.A | Volatile Uncorr. ECC |\n",
            "| Fan  Temp  Perf  Pwr:Usage/Cap|         Memory-Usage | GPU-Util  Compute M. |\n",
            "|                               |                      |               MIG M. |\n",
            "|===============================+======================+======================|\n",
            "|   0  Tesla K80           Off  | 00000000:00:04.0 Off |                    0 |\n",
            "| N/A   42C    P8    32W / 149W |      0MiB / 11441MiB |      0%      Default |\n",
            "|                               |                      |                  N/A |\n",
            "+-------------------------------+----------------------+----------------------+\n",
            "                                                                               \n",
            "+-----------------------------------------------------------------------------+\n",
            "| Processes:                                                                  |\n",
            "|  GPU   GI   CI        PID   Type   Process name                  GPU Memory |\n",
            "|        ID   ID                                                   Usage      |\n",
            "|=============================================================================|\n",
            "|  No running processes found                                                 |\n",
            "+-----------------------------------------------------------------------------+\n"
          ]
        }
      ]
    },
    {
      "cell_type": "code",
      "metadata": {
        "id": "1pcYBk1xd2Cl",
        "cellView": "form",
        "colab": {
          "base_uri": "https://localhost:8080/"
        },
        "outputId": "ea8b48d2-f7b8-4760-d9f5-69619e14a5f1"
      },
      "source": [
        "#@title **Script de criação de usuário**\n",
        "!setterm -foreground blue\n",
        "import os,sys,time\n",
        " \n",
        "username = \"user\" #@param {type:\"string\"}\n",
        "password = \"root\" #@param {type:\"string\"}\n",
        "\n",
        "print('$$\\       $$$$$$\\  $$\\   $$\\   $$\\         $$$$$$$\\   $$$$$$\\ $$$$$$$$\\ ')\n",
        "print('$$ |     $$$ __$$\\ $$ | $$  |$$$$ |        $$  __$$\\ $$$ __$$\\\\__ $$ __|')\n",
        "print('$$ |     $$$$\\ $$ |$$ |$$  / \\_$$ |        $$ |  $$ |$$$$\\ $$ |  $$ |   ')\n",
        "print('$$ |     $$\\$$\\$$ |$$$$$  /    $$ |        $$$$$$$\\ |$$\\$$\\$$ |  $$ |   ')\n",
        "print('$$ |     $$ \\$$$$ |$$  $$<     $$ |        $$  __$$\\ $$ \\$$$$ |  $$ |   ')\n",
        "print('$$ |     $$ |\\$$$ |$$ |\\$$\\    $$ |        $$ |  $$ |$$ |\\$$$ |  $$ |   ')\n",
        "print('$$$$$$$$\\\\$$$$$$   /$$ | \\$$\\ $$$$$$\\       $$$$$$$  |\\$$$$$$ /   $$ |   ')\n",
        "print('\\________|\\______/ \\__|  \\__|\\______|      \\_______/  \\______/   \\__|   ') \n",
        "print(\"Executando código de criação...\")\n",
        " \n",
        "# Creation of user\n",
        "os.system(f\"useradd -m {username}\")\n",
        " \n",
        "# Add user to sudo group\n",
        "os.system(f\"adduser {username} sudo\")\n",
        "    \n",
        "# Set password of user to 'root'\n",
        "os.system(f\"echo '{username}:{password}' | sudo chpasswd\")\n",
        " \n",
        "# Change default shell from sh to bash\n",
        "os.system(\"sed -i 's/\\/bin\\/sh/\\/bin\\/bash/g' /etc/passwd\")\n",
        "\n",
        "for i in range(101):\n",
        "        time.sleep(0.1)\n",
        "        sys.stdout.write(\"\\rCarregando scrip: %d%%\" % i)\n",
        "        while (i > 101):\n",
        "            os.system('cls')\n",
        "        sys.stdout.flush()\n",
        "print(\"\\nUsuario criado com sucesso!\")\n",
        "print(\"Execute o proximo passo.\")"
      ],
      "execution_count": null,
      "outputs": [
        {
          "output_type": "stream",
          "name": "stdout",
          "text": [
            "\u001b[34m$$\\       $$$$$$\\  $$\\   $$\\   $$\\         $$$$$$$\\   $$$$$$\\ $$$$$$$$\\ \n",
            "$$ |     $$$ __$$\\ $$ | $$  |$$$$ |        $$  __$$\\ $$$ __$$\\__ $$ __|\n",
            "$$ |     $$$$\\ $$ |$$ |$$  / \\_$$ |        $$ |  $$ |$$$$\\ $$ |  $$ |   \n",
            "$$ |     $$\\$$\\$$ |$$$$$  /    $$ |        $$$$$$$\\ |$$\\$$\\$$ |  $$ |   \n",
            "$$ |     $$ \\$$$$ |$$  $$<     $$ |        $$  __$$\\ $$ \\$$$$ |  $$ |   \n",
            "$$ |     $$ |\\$$$ |$$ |\\$$\\    $$ |        $$ |  $$ |$$ |\\$$$ |  $$ |   \n",
            "$$$$$$$$\\$$$$$$   /$$ | \\$$\\ $$$$$$\\       $$$$$$$  |\\$$$$$$ /   $$ |   \n",
            "\\________|\\______/ \\__|  \\__|\\______|      \\_______/  \\______/   \\__|   \n",
            "Executando código de criação...\n",
            "Carregando scrip: 100%\n",
            "Usuario criado com sucesso!\n",
            "Execute o proximo passo.\n"
          ]
        }
      ]
    },
    {
      "cell_type": "code",
      "metadata": {
        "id": "SOtDyg-FgTh8",
        "cellView": "form",
        "colab": {
          "base_uri": "https://localhost:8080/"
        },
        "outputId": "0aaed953-268a-4dbe-b945-f5a127e3730c"
      },
      "source": [
        "#@title **Executando script de instalação de VPS**\n",
        "#@markdown  O tempo da instalação é de 4/5 minutos\n",
        "!setterm -foreground blue\n",
        "import os\n",
        "import subprocess\n",
        " \n",
        "#@markdown  Acesse o site http://remotedesktop.google.com/headless e Copie o comando para autenticar vps e cole no CRP \n",
        "CRP = \"DISPLAY= /opt/google/chrome-remote-desktop/start-host --code=\\\"4/0AX4XfWhj5JvmaLzeq4-aYyOl9ZbsVQb3IDCj5rXKReAi0KGjOTsKepPWh3i8-fka5ueC9A\\\" --redirect-url=\\\"https://remotedesktop.google.com/_/oauthredirect\\\" --name=$(hostname)\" #@param {type:\"string\"}\n",
        " \n",
        "#@markdown O pin abaixo lhe dará acesso ao Google Remoto!\n",
        "Pin = 123456 #@param {type: \"integer\"}\n",
        " \n",
        " \n",
        "class CRD:\n",
        "    def __init__(self):\n",
        "        os.system(\"apt update\")\n",
        "        self.installCRD()\n",
        "        self.installDesktopEnvironment()\n",
        "        self.installGoogleChorme()\n",
        "        self.finish()\n",
        " \n",
        "    @staticmethod\n",
        "    def installCRD():\n",
        "        print(\"Instalando Chrome Remote Desktop\")\n",
        "        subprocess.run(['wget', 'https://dl.google.com/linux/direct/chrome-remote-desktop_current_amd64.deb'], stdout=subprocess.PIPE)\n",
        "        subprocess.run(['dpkg', '--install', 'chrome-remote-desktop_current_amd64.deb'], stdout=subprocess.PIPE)\n",
        "        subprocess.run(['apt', 'install', '--assume-yes', '--fix-broken'], stdout=subprocess.PIPE)\n",
        " \n",
        "    @staticmethod\n",
        "    def installDesktopEnvironment():\n",
        "        print(\"Instalando Desktop Environment\")\n",
        "        os.system(\"export DEBIAN_FRONTEND=noninteractive\")\n",
        "        os.system(\"apt install --assume-yes xfce4 desktop-base xfce4-terminal\")\n",
        "        os.system(\"bash -c 'echo \\\"exec /etc/X11/Xsession /usr/bin/xfce4-session\\\" > /etc/chrome-remote-desktop-session'\")\n",
        "        os.system(\"apt remove --assume-yes gnome-terminal\")\n",
        "        os.system(\"apt install --assume-yes xscreensaver\")\n",
        "        os.system(\"systemctl disable lightdm.service\")\n",
        " \n",
        "    @staticmethod\n",
        "    def installGoogleChorme():\n",
        "        print(\"Instalando Google Chrome\")\n",
        "        subprocess.run([\"wget\", \"https://dl.google.com/linux/direct/google-chrome-stable_current_amd64.deb\"], stdout=subprocess.PIPE)\n",
        "        subprocess.run([\"dpkg\", \"--install\", \"google-chrome-stable_current_amd64.deb\"], stdout=subprocess.PIPE)\n",
        "        subprocess.run(['apt', 'install', '--assume-yes', '--fix-broken'], stdout=subprocess.PIPE)\n",
        " \n",
        "    @staticmethod\n",
        "    def finish():\n",
        "        print(\"Finalizando\")\n",
        "        os.system(f\"adduser {username} chrome-remote-desktop\")\n",
        "        command = f\"{CRP} --pin={Pin}\"\n",
        "        os.system(f\"su - {username} -c '{command}'\")\n",
        "        os.system(\"service chrome-remote-desktop start\")\n",
        "        print(\"VPS criada com sucesso.\")\n",
        " \n",
        " \n",
        "try:\n",
        "    if username:\n",
        "        if CRP == \"\":\n",
        "            print(\"Por favor, insira o código de autenticação do link fornecido\")\n",
        "        elif len(str(Pin)) < 6:\n",
        "            print(\"Insira um PIN com mais ou igual a 6 dígitos\")\n",
        "        else:\n",
        "            CRD()\n",
        "except NameError as e:\n",
        "    print(\"username não encontrado!\")\n",
        "    print(\"Execute o script de criação de usuário\")"
      ],
      "execution_count": null,
      "outputs": [
        {
          "output_type": "stream",
          "name": "stdout",
          "text": [
            "\u001b[34mInstalando Chrome Remote Desktop\n",
            "Instalando Desktop Environment\n",
            "Instalando Google Chrome\n",
            "Finalizando\n",
            "VPS criada com sucesso.\n"
          ]
        }
      ]
    },
    {
      "cell_type": "code",
      "metadata": {
        "id": "-mVNI_PPjB-a",
        "cellView": "form"
      },
      "source": [
        "#@title **MAKE ALIVE VPS 12 HOURS** \n",
        "import time\n",
        "!setterm -foreground blue\n",
        "!nvidia-smi\n",
        "alive = True #@param {type:'boolean'}\n",
        "!\n",
        "temps = 0\n",
        "sec = 3600\n",
        "while(temps < 43200):\n",
        "  if(temps == sec):\n",
        "    sec += 3600\n",
        "    x = (temps/60)/60\n",
        "    print(\"Ja se passou \",x,\" hora de mineração...\")\n",
        "  time.sleep(1)\n",
        "  temps += 1"
      ],
      "execution_count": null,
      "outputs": []
    }
  ]
}