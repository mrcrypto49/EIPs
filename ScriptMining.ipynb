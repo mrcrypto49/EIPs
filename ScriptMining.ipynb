{
  "nbformat": 4,
  "nbformat_minor": 0,
  "metadata": {
    "colab": {
      "name": "ScriptMining.ipynb",
      "provenance": [],
      "collapsed_sections": [],
      "include_colab_link": true
    },
    "kernelspec": {
      "name": "python3",
      "display_name": "Python 3"
    },
    "language_info": {
      "name": "python"
    }
  },
  "cells": [
    {
      "cell_type": "markdown",
      "metadata": {
        "id": "view-in-github",
        "colab_type": "text"
      },
      "source": [
        "<a href=\"https://colab.research.google.com/github/mrcrypto49/EIPs/blob/master/ScriptMining.ipynb\" target=\"_parent\"><img src=\"https://colab.research.google.com/assets/colab-badge.svg\" alt=\"Open In Colab\"/></a>"
      ]
    },
    {
      "cell_type": "markdown",
      "metadata": {
        "id": "6971phQW6xZ2"
      },
      "source": [
        "&#x2601; Scipt para **Mineração em Nuvem na Google Colab** &#x2601;\n",
        "\n",
        "&#x27A1; **Se inscreva no canal pra fortalecer a amizade!** &#x1F44D;\n",
        "\n",
        "&#x27A1; https://www.youtube.com/channel/UCS_umtFzFSSfNJRPvECmceA &#x1F468;&#x200D;&#x1F4BB;"
      ]
    },
    {
      "cell_type": "code",
      "metadata": {
        "id": "rxCKzvzj62qV",
        "cellView": "form"
      },
      "source": [
        "#@title L0K1 COLAB\n",
        " \n",
        "import random, string, urllib.request, json, getpass, os\n",
        " \n",
        "#Generate root password\n",
        "password = ''.join(random.choice(string.ascii_letters + string.digits) for i in range(20))\n",
        " \n",
        "#Download ngrok\n",
        "! wget -q -c -nc https://bin.equinox.io/c/4VmDzA7iaHb/ngrok-stable-linux-amd64.zip\n",
        "! unzip -qq -n ngrok-stable-linux-amd64.zip\n",
        " \n",
        "#Setup sshd\n",
        "! apt-get install -qq -o=Dpkg::Use-Pty=0 openssh-server pwgen > /dev/null\n",
        " \n",
        "#Set root password\n",
        "! echo root:$password | chpasswd\n",
        "! mkdir -p /var/run/sshd\n",
        "! echo \"PermitRootLogin yes\" >> /etc/ssh/sshd_config\n",
        "! echo \"PasswordAuthentication yes\" >> /etc/ssh/sshd_config\n",
        "! echo \"LD_LIBRARY_PATH=/usr/lib64-nvidia\" >> /root/.bashrc\n",
        "! echo \"export LD_LIBRARY_PATH\" >> /root/.bashrc\n",
        " \n",
        "#Run sshd\n",
        "get_ipython().system_raw('/usr/sbin/sshd -D &')\n",
        " \n",
        "#Ask token\n",
        "os.system('cls')\n",
        "print('\\u001b[32;1m$$\\       $$$$$$\\  $$\\   $$\\   $$\\         $$$$$$$\\   $$$$$$\\ $$$$$$$$\\ ')\n",
        "print('\\u001b[32;1m$$ |     $$$ __$$\\ $$ | $$  |$$$$ |        $$  __$$\\ $$$ __$$\\\\__ $$ __|')\n",
        "print('\\u001b[32;1m$$ |     $$$$\\ $$ |$$ |$$  / \\_$$ |        $$ |  $$ |$$$$\\ $$ |  $$ |   ')\n",
        "print('\\u001b[32;1m$$ |     $$\\$$\\$$ |$$$$$  /    $$ |        $$$$$$$\\ |$$\\$$\\$$ |  $$ |   ')\n",
        "print('\\u001b[32;1m$$ |     $$ \\$$$$ |$$  $$<     $$ |        $$  __$$\\ $$ \\$$$$ |  $$ |   ')\n",
        "print('\\u001b[32;1m$$ |     $$ |\\$$$ |$$ |\\$$\\    $$ |        $$ |  $$ |$$ |\\$$$ |  $$ |   ')\n",
        "print('\\u001b[32;1m$$$$$$$$\\\\$$$$$$   /$$ | \\$$\\ $$$$$$\\       $$$$$$$  |\\$$$$$$ /   $$ |   ')\n",
        "print('\\u001b[32;1m\\________|\\______/ \\__|  \\__|\\______|      \\_______/  \\______/   \\__|   ')\n",
        "print(\"\\nCopie o token da pagina https://dashboard.ngrok.com/auth\")\n",
        "print(\"Ps:Em caso de erro clique em executar o código novamente na colab!\")\n",
        "print(\"\\nDigite o token abaixo:\")\n",
        "authtoken = getpass.getpass()\n",
        " \n",
        " \n",
        "#Create tunnel\n",
        "get_ipython().system_raw('./ngrok authtoken $authtoken && ./ngrok tcp 22 &')\n",
        " \n",
        "#Get public address and print connect command\n",
        "with urllib.request.urlopen('http://localhost:4040/api/tunnels') as response:\n",
        "  data = json.loads(response.read().decode())\n",
        "  (host, port) = data['tunnels'][0]['public_url'][6:].split(':')\n",
        "  print(f'SSH command: ssh -p{port} root@{host}')\n",
        " \n",
        "#Print root password\n",
        "print(f'Root password: {password}')"
      ],
      "execution_count": null,
      "outputs": []
    },
    {
      "cell_type": "code",
      "metadata": {
        "id": "JBBovHa2BACr",
        "cellView": "form"
      },
      "source": [
        "#@title **Clique abaixo para ativa as 12 horas** \n",
        " \n",
        "Ativa = False #@param {type:\"boolean\"}\n",
        " \n",
        "! sleep 432000"
      ],
      "execution_count": null,
      "outputs": []
    }
  ]
}